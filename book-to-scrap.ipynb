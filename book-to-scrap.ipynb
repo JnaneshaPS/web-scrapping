{
  "nbformat": 4,
  "nbformat_minor": 0,
  "metadata": {
    "colab": {
      "provenance": []
    },
    "kernelspec": {
      "name": "python3",
      "display_name": "Python 3"
    },
    "language_info": 
      "name": "python"
    }
  },
  "cells": [
    {
      "cell_type": "code",
      "execution_count": null,
      "metadata": {
        "id": "mgvHA-wD_4Ij"
      },
      "outputs": [],
      "source": [
        "import requests"
      ]
    },
    {
      "cell_type": "code",
      "source": [
        "from bs4 import BeautifulSoup"
      ],
      "metadata": {
        "id": "Y56TRCsmAa2g"
      },
      "execution_count": null,
      "outputs": []
    },
    {
      "cell_type": "code",
      "source": [
        "import pandas as pd"
      ],
      "metadata": {
        "id": "j0PdPhrQADVS"
      },
      "execution_count": null,
      "outputs": []
    },
    {
      "cell_type": "code",
      "source": [],
      "metadata": {
        "id": "GHrDG-FEALbY"
      },
      "execution_count": null,
      "outputs": []
    },
    {
      "cell_type": "code",
      "source": [
        "books=[]\n",
        "for i in range(1,51):\n",
        "  url=f\"https://books.toscrape.com/catalogue/page-{i}.html\"\n",
        "  response=requests.get(url)\n",
        "  response=response.content\n",
        "  soup=BeautifulSoup(response,'html.parser')\n",
        "  ol=soup.find('ol')\n",
        "  articles=ol.find_all('article',class_='product_pod')\n",
        "\n",
        "  for article in articles:\n",
        "    image=article.find('img')\n",
        "    title=image.attrs['alt']\n",
        "    star=article.find('p')\n",
        "    star=star['class']\n",
        "    price=article.find('p',class_='price_color').text\n",
        "    books.append([title,price,star])\n"
      ],
      "metadata": {
        "id": "gyg1yMbPBy7m"
      },
      "execution_count": null,
      "outputs": []
    },
    {
      "cell_type": "code",
      "source": [
        "df = pd.DataFrame(books, columns=['Title','Prices','Star-ratings'])"
      ],
      "metadata": {
        "id": "YoIDFW9aHS2K"
      },
      "execution_count": null,
      "outputs": []
    },
    {
      "cell_type": "code",
      "source": [
        "df.to_csv('books.csv')"
      ],
      "metadata": {
        "id": "0uszGJnVH-MM"
      },
      "execution_count": null,
      "outputs": []
    }
  ]
}
